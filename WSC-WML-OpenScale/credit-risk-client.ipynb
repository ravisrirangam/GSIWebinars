{
 "cells": [
  {
   "cell_type": "markdown",
   "metadata": {
    "collapsed": true
   },
   "source": [
    "Sample Client for invoking Scoring Endpoint in Python\n"
   ]
  },
  {
   "cell_type": "markdown",
   "metadata": {},
   "source": [
    "Get the IAM toen using the WML credentials"
   ]
  },
  {
   "cell_type": "code",
   "execution_count": 1,
   "metadata": {},
   "outputs": [
    {
     "name": "stdout",
     "output_type": "stream",
     "text": [
      "eyJraWQiOiIyMDIwMDQyNTE4MjkiLCJhbGciOiJSUzI1NiJ9.eyJpYW1faWQiOiJpYW0tU2VydmljZUlkLTVmY2VhNzAwLTRiZTEtNDkwYS05OTFjLTg1YmU4MmM3Yjk5MCIsImlkIjoiaWFtLVNlcnZpY2VJZC01ZmNlYTcwMC00YmUxLTQ5MGEtOTkxYy04NWJlODJjN2I5OTAiLCJyZWFsbWlkIjoiaWFtIiwiaWRlbnRpZmllciI6IlNlcnZpY2VJZC01ZmNlYTcwMC00YmUxLTQ5MGEtOTkxYy04NWJlODJjN2I5OTAiLCJuYW1lIjoid2RwLXdyaXRlciIsInN1YiI6IlNlcnZpY2VJZC01ZmNlYTcwMC00YmUxLTQ5MGEtOTkxYy04NWJlODJjN2I5OTAiLCJzdWJfdHlwZSI6IlNlcnZpY2VJZCIsImFjY291bnQiOnsidmFsaWQiOnRydWUsImJzcyI6IjdmNDE5MWMwODkwZmM5ZjBmNDFlYTZiMjJlOTE5MWJjIn0sImlhdCI6MTU4OTYwNzIwOSwiZXhwIjoxNTg5NjEwODA5LCJpc3MiOiJodHRwczovL2lhbS5uZy5ibHVlbWl4Lm5ldC9vaWRjL3Rva2VuIiwiZ3JhbnRfdHlwZSI6InVybjppYm06cGFyYW1zOm9hdXRoOmdyYW50LXR5cGU6YXBpa2V5Iiwic2NvcGUiOiJpYm0gb3BlbmlkIiwiY2xpZW50X2lkIjoiYngiLCJhY3IiOjEsImFtciI6WyJwd2QiXX0.CRhuh2zLvx-k4BZ5lz4D1pIB1AJ-heFLLyKrFvFAC99YiyFgcdLMnkUEoELbssghuSTH8Pkh7rQnqmwJMx4zjfIEDdVAy1kB04l6qsMublbZ48_GLAIkIZqzEZoblRKv8RxAWaJEBlZeBgHQ-7a4hu2K5TQFFi1tfJm-Xd2TaJLBNAN25JHnJ7hzQjyxQOB8U1H6Y5YUHVjkuZ5JgIx3z6rxt4tFN5bPcAEplEtyrY7r2ghNhbESchzOSrOSKBVz4u9h5DFfg7DuHpFww2lKrMnXQhj0XPeq48447Q8S4bK7MjPpEG8HQR1gF3WEgkMoKYcqaaLXfDIcbD-gFd0WAA\n"
     ]
    }
   ],
   "source": [
    "import requests\n",
    "\n",
    "# Paste your Watson Machine Learning service apikey here\n",
    "# Use the rest of the code sample as written\n",
    "apikey = \"UBkwDf3BBnLwZWJ84S3pPVFM5AuHYI-j9rLzbe0_02BQ\"\n",
    "\n",
    "# Get an IAM token from IBM Cloud\n",
    "url     = \"https://iam.bluemix.net/oidc/token\"\n",
    "headers = { \"Content-Type\" : \"application/x-www-form-urlencoded\" }\n",
    "data    = \"apikey=\" + apikey + \"&grant_type=urn:ibm:params:oauth:grant-type:apikey\"\n",
    "IBM_cloud_IAM_uid = \"bx\"\n",
    "IBM_cloud_IAM_pwd = \"bx\"\n",
    "response  = requests.post( url, headers=headers, data=data, auth=( IBM_cloud_IAM_uid, IBM_cloud_IAM_pwd ) )\n",
    "iam_token = response.json()[\"access_token\"]\n",
    "print(iam_token)"
   ]
  },
  {
   "cell_type": "markdown",
   "metadata": {},
   "source": [
    "Invoke the Scoring endpoint, using the credit risk example"
   ]
  },
  {
   "cell_type": "code",
   "execution_count": 2,
   "metadata": {},
   "outputs": [
    {
     "name": "stdout",
     "output_type": "stream",
     "text": [
      "Scoring response\n",
      "{'fields': ['CheckingStatus', 'LoanDuration', 'CreditHistory', 'LoanPurpose', 'LoanAmount', 'ExistingSavings', 'EmploymentDuration', 'InstallmentPercent', 'Sex', 'OthersOnLoan', 'CurrentResidenceDuration', 'OwnsProperty', 'Age', 'InstallmentPlans', 'Housing', 'ExistingCreditsCount', 'Job', 'Dependents', 'Telephone', 'ForeignWorker', 'CheckingStatus_IX', 'CreditHistory_IX', 'EmploymentDuration_IX', 'ExistingSavings_IX', 'ForeignWorker_IX', 'Housing_IX', 'InstallmentPlans_IX', 'Job_IX', 'LoanPurpose_IX', 'OthersOnLoan_IX', 'OwnsProperty_IX', 'Sex_IX', 'Telephone_IX', 'features', 'rawPrediction', 'probability', 'prediction', 'predictedLabel'], 'values': [['less_0', 6, 'outstanding_credit', 'radio_tv', 1169, 'unknown', 'greater_7', 4, 'male', 'none', 4, 'real_estate', 67, 'none', 'own', 2, 'skilled', 1, 'yes', 'yes', 1.0, 2.0, 2.0, 4.0, 0.0, 0.0, 0.0, 0.0, 3.0, 0.0, 2.0, 0.0, 1.0, [1.0, 2.0, 3.0, 4.0, 2.0, 0.0, 0.0, 2.0, 0.0, 0.0, 0.0, 1.0, 0.0, 6.0, 1169.0, 4.0, 4.0, 6.0, 67.0, 2.0, 1.0], [10.651383648040795, 9.348616351959205], [0.5325691824020398, 0.46743081759796024], 0.0, 'No Risk']]}\n"
     ]
    }
   ],
   "source": [
    "import urllib3, requests, json\n",
    "\n",
    "ml_instance_id = \"017357e3-af97-414a-99d4-380b86b81a2e\"\n",
    "\n",
    "# NOTE: generate iam_token and retrieve ml_instance_id based on provided documentation\t\n",
    "header = {'Content-Type': 'application/json', 'Authorization': 'Bearer ' + iam_token, 'ML-Instance-ID': ml_instance_id}\n",
    "\n",
    "# NOTE: manually define and pass the array(s) of values to be scored in the next line\n",
    "payload_scoring = {\n",
    "\"fields\": [\"CheckingStatus\",\"LoanDuration\",\"CreditHistory\",\"LoanPurpose\",\"LoanAmount\",\"ExistingSavings\",\"EmploymentDuration\",\"InstallmentPercent\",\"Sex\",\"OthersOnLoan\",\"CurrentResidenceDuration\",\"OwnsProperty\",\"Age\",\"InstallmentPlans\",\"Housing\",\"ExistingCreditsCount\",\"Job\",\"Dependents\",\"Telephone\",\"ForeignWorker\"],\n",
    "  \"values\": [[\"less_0\",6,\"outstanding_credit\",\"radio_tv\",1169,\"unknown\",\"greater_7\",4,\"male\",\"none\",4,\"real_estate\",67,\"none\",\"own\",2,\"skilled\",1,\"yes\",\"yes\",\"No Risk\"  ]]\n",
    "  }\n",
    "\n",
    "response_scoring = requests.post('https://us-south.ml.cloud.ibm.com/v3/wml_instances/017357e3-af97-414a-99d4-380b86b81a2e/deployments/00ff0df2-7add-41da-a113-6e82145643e2/online', json=payload_scoring, headers=header)\n",
    "print(\"Scoring response\")\n",
    "print(json.loads(response_scoring.text))"
   ]
  },
  {
   "cell_type": "code",
   "execution_count": null,
   "metadata": {},
   "outputs": [],
   "source": []
  }
 ],
 "metadata": {
  "kernelspec": {
   "display_name": "Python 3.6",
   "language": "python",
   "name": "python3"
  },
  "language_info": {
   "codemirror_mode": {
    "name": "ipython",
    "version": 3
   },
   "file_extension": ".py",
   "mimetype": "text/x-python",
   "name": "python",
   "nbconvert_exporter": "python",
   "pygments_lexer": "ipython3",
   "version": "3.6.9"
  }
 },
 "nbformat": 4,
 "nbformat_minor": 1
}
